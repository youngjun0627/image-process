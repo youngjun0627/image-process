{
 "cells": [
  {
   "cell_type": "code",
   "execution_count": 2,
   "metadata": {},
   "outputs": [
    {
     "name": "stdout",
     "output_type": "stream",
     "text": [
      "(512, 512)\n"
     ]
    }
   ],
   "source": [
    "import numpy as np\n",
    "from PIL import Image\n",
    "def func1(img):\n",
    "    img = np.transpose(img,(2,1,0))\n",
    "    img = img[0]*0.3 + img[1]*0.5+img[2]*0.2\n",
    "    return img\n",
    "\n",
    "img = Image.open('pepper.bmp')\n",
    "img = np.array(img)\n",
    "img = func1(img)\n",
    "print(img.shape)\n",
    "img = Image.fromarray(img)\n",
    "\n",
    "img.show()\n"
   ]
  },
  {
   "cell_type": "code",
   "execution_count": 3,
   "metadata": {},
   "outputs": [
    {
     "name": "stdout",
     "output_type": "stream",
     "text": [
      "(512, 512, 3)\n"
     ]
    }
   ],
   "source": [
    "def func2(img,offset):\n",
    "    img = np.transpose(img,(2,0,1))\n",
    "    for c in range(img.shape[0]):\n",
    "        for j in range(img.shape[1]):\n",
    "            for i in range(img.shape[2]):\n",
    "                if img[c,j,i]+offset>=255:\n",
    "                    img[c,j,i]=255\n",
    "                elif img[c,j,i]+offset<=0:\n",
    "                    img[c,j,i]=0\n",
    "                else:\n",
    "                    img[c,j,i]+=offset\n",
    "    img = np.transpose(img,(1,2,0))\n",
    "    return img\n",
    "\n",
    "img = Image.open('pepper.bmp')\n",
    "img = np.array(img)\n",
    "img = func2(img,10)\n",
    "print(img.shape)\n",
    "img = Image.fromarray(img)\n",
    "img.show()\n"
   ]
  },
  {
   "cell_type": "code",
   "execution_count": null,
   "metadata": {},
   "outputs": [],
   "source": [
    "from collections import deque\n",
    "\n",
    "def func3(img, crop_size = (128,128)):\n",
    "\n",
    "    frames = []\n",
    "    dy = [0,1,0,-1]\n",
    "    dx = [1,0,-1,0]\n",
    "    start = (0,0)\n",
    "    \n",
    "    q = deque()\n",
    "    q.append(start)\n",
    "    visit = set()\n",
    "    #visit.add(start)\n",
    "    frames.append(img[start[0]:start[0]+crop_size[0],start[0]:start[1]+crop_size[1],:])\n",
    "    idx = 0\n",
    "    while q:\n",
    "        cy,cx = q.popleft()\n",
    "        if (cy,cx) not in visit:\n",
    "            visit.add((cy,cx))\n",
    "            frames.append(img[cy:cy+crop_size[0], cx:cx+crop_size[1],:])\n",
    "        else:\n",
    "            continue\n",
    "        ny = cy+dy[idx]\n",
    "        nx = cx+dx[idx]\n",
    "        if ny>=0 and ny+crop_size[0]<img.shape[0] and nx>=0 and nx+crop_size[1]<img.shape[1]:\n",
    "            q.append((ny,nx))\n",
    "        else:\n",
    "            idx+=1\n",
    "            idx%=4\n",
    "            ny = cy+dy[idx]\n",
    "            nx = cx+dx[idx]\n",
    "            \n",
    "            q.append((ny,nx))\n",
    "    \n",
    "    return np.array(frames)\n",
    "\n",
    "img = Image.open('pepper.bmp')\n",
    "img = np.array(img)\n",
    "video = func3(img)\n",
    "print(video.shape)\n",
    "\n",
    "###출력###\n",
    "for i in range(video.shape[0]):\n",
    "    plt.imshow(video[i]),  plt.axis('off')\n",
    "    plt.show()\n",
    "\n",
    "          "
   ]
  },
  {
   "cell_type": "code",
   "execution_count": 30,
   "metadata": {},
   "outputs": [
    {
     "data": {
      "text/plain": [
       "<BarContainer object of 255 artists>"
      ]
     },
     "execution_count": 30,
     "metadata": {},
     "output_type": "execute_result"
    },
    {
     "data": {
      "image/png": "[encoded data removed]",
      "text/plain": [
       "<Figure size 432x288 with 1 Axes>"
      ]
     },
     "metadata": {
      "needs_background": "light"
     },
     "output_type": "display_data"
    }
   ],
   "source": [
    "def func4(img,N):\n",
    "    \n",
    "    def func1(img):\n",
    "        img = np.transpose(img,(2,1,0))\n",
    "        img = img[0]*0.3 + img[1]*0.5+img[2]*0.2\n",
    "        return img\n",
    "    \n",
    "    img = func1(img)\n",
    "    \n",
    "    cands = np.arange(0,256,256//N)\n",
    "    #print(cands)\n",
    "    dic = {}\n",
    "    img_list = []\n",
    "    for i in range(img.shape[0]):\n",
    "        for j in range(img.shape[1]):\n",
    "            \n",
    "            img_list.append(int(img[i][j]))\n",
    "    #img_list = np.array(img_list)\n",
    "    \n",
    "    for i in range(len(cands)-1):\n",
    "        temp = np.array(img_list)\n",
    "        temp = (temp >= cands[i]) & (temp < cands[i+1])\n",
    "        dic[(cands[i]+cands[i+1])/2] = np.sum(temp)\n",
    "    return dic\n",
    "\n",
    "\n",
    "img = Image.open('pepper.bmp')\n",
    "img = np.array(img)\n",
    "#img = func1(img)\n",
    "hist = func4(img,256)\n",
    "#print(hist)\n",
    "plt.bar(hist.keys(),hist.values(),width = 5)\n",
    "\n"
   ]
  },
  {
   "cell_type": "code",
   "execution_count": 5,
   "metadata": {},
   "outputs": [
    {
     "name": "stderr",
     "output_type": "stream",
     "text": [
      "C:\\Users\\kke26\\anaconda3\\envs\\uchanpython\\lib\\site-packages\\ipykernel_launcher.py:56: RuntimeWarning: divide by zero encountered in double_scalars\n",
      "C:\\Users\\kke26\\anaconda3\\envs\\uchanpython\\lib\\site-packages\\ipykernel_launcher.py:57: RuntimeWarning: invalid value encountered in double_scalars\n"
     ]
    },
    {
     "name": "stdout",
     "output_type": "stream",
     "text": [
      "threshold :  113.5\n"
     ]
    },
    {
     "data": {
      "text/plain": [
       "<matplotlib.image.AxesImage at 0x26daf9230c8>"
      ]
     },
     "execution_count": 5,
     "metadata": {},
     "output_type": "execute_result"
    },
    {
     "data": {
      "image/png": "[encoded data removed]",
      "text/plain": [
       "<Figure size 432x288 with 1 Axes>"
      ]
     },
     "metadata": {
      "needs_background": "light"
     },
     "output_type": "display_data"
    }
   ],
   "source": [
    "import math\n",
    "from PIL import Image\n",
    "import numpy as np\n",
    "import matplotlib.pyplot as plt\n",
    "\n",
    "\n",
    "\n",
    "\n",
    "def func5(img,N):\n",
    "    ### dynamic programming으로 할것###\n",
    "    def sub_func_1(img):\n",
    "        img = np.transpose(img,(2,1,0))\n",
    "        img = img[0]*0.3 + img[1]*0.5+img[2]*0.2\n",
    "        return img\n",
    "    \n",
    "    def sub_func_2(img,N):\n",
    "\n",
    "        #img = sub_func_1(img)\n",
    "\n",
    "        cands = np.arange(0,256,256//N)\n",
    "        dic = {}\n",
    "        img_list = []\n",
    "        for i in range(img.shape[0]):\n",
    "            for j in range(img.shape[1]):\n",
    "\n",
    "                img_list.append(int(img[i][j]))\n",
    "        #img_list = np.array(img_list)\n",
    "\n",
    "        for i in range(len(cands)-1):\n",
    "            temp = np.array(img_list)\n",
    "            temp = (temp >= cands[i]) & (temp < cands[i+1])\n",
    "            dic[(cands[i]+cands[i+1])/2] = np.sum(temp)\n",
    "        return dic\n",
    "    img = sub_func_1(img)\n",
    "    dic = sub_func_2(img,N)\n",
    "    \n",
    "    comp = 9999999999\n",
    "    result=0\n",
    "    thresholds = [key for key in dic.keys()]\n",
    "    total = sum(dic.values())\n",
    "    \n",
    "    w0 = []\n",
    "    u0 = []\n",
    "    mean = 0\n",
    "    for k,v in dic.items():\n",
    "        mean += k*v\n",
    "    mean/=total\n",
    "    v=[]\n",
    "    for idx, threshold in enumerate(thresholds):\n",
    "        if idx==0:\n",
    "            w0.append(dic[threshold]/total)\n",
    "            u0.append(0)\n",
    "            continue\n",
    "        w0.append(w0[idx-1]+dic[threshold]/total)\n",
    "        u0.append((w0[idx-1] * u0[idx-1] + threshold*dic[threshold]/total)/w0[idx])\n",
    "        u1 = (mean-w0[idx]*u0[idx])/(1-w0[idx])\n",
    "        if not math.isnan((w0[idx]*(1-w0[idx]))*((u0[idx]-u1)**2)):\n",
    "            v.append(int((w0[idx]*(1-w0[idx]))*((u0[idx]-u1)**2)))\n",
    "    final_threshold = list(dic.keys())[np.argmax(np.array(v))]\n",
    "    result = np.zeros(img.shape)\n",
    "    #print(img.shape)\n",
    "    for i in range(img.shape[0]):\n",
    "        for j in range(img.shape[1]):\n",
    "            \n",
    "            if img[i,j]<final_threshold:\n",
    "                result[i,j]=0\n",
    "            else:\n",
    "                result[i,j]=1\n",
    "    print('threshold : ',final_threshold)\n",
    "    return result\n",
    "\n",
    "img = Image.open('pepper.bmp')\n",
    "img = np.array(img)\n",
    "\n",
    "#hist = func4(img,10)\n",
    "#img = func1(img)\n",
    "result = func5(img,256)\n",
    "\n",
    "plt.imshow(result,cmap='gray')\n"
   ]
  },
  {
   "cell_type": "code",
   "execution_count": null,
   "metadata": {},
   "outputs": [],
   "source": []
  }
 ],
 "metadata": {
  "kernelspec": {
   "display_name": "Python 3",
   "language": "python",
   "name": "python3"
  },
  "language_info": {
   "codemirror_mode": {
    "name": "ipython",
    "version": 3
   },
   "file_extension": ".py",
   "mimetype": "text/x-python",
   "name": "python",
   "nbconvert_exporter": "python",
   "pygments_lexer": "ipython3",
   "version": "3.7.7"
  }
 },
 "nbformat": 4,
 "nbformat_minor": 4
}
