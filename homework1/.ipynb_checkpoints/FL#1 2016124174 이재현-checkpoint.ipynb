{
 "cells": [
  {
   "cell_type": "code",
   "execution_count": 2,
   "metadata": {},
   "outputs": [
    {
     "name": "stdout",
     "output_type": "stream",
     "text": [
      "Color image shape:  (512, 512, 3)\n",
      "Binary image shape:  (512, 512)\n"
     ]
    }
   ],
   "source": [
    "# 1. Convert RGB color image to gray. \n",
    "import cv2 \n",
    "import numpy as np\n",
    "import matplotlib.pyplot as plt\n",
    "\n",
    "def cvtGray(InputImage):                 # 3채널 이미지  cv2 -> BGR\n",
    "    grayScaleImage = img[:,:,0]*0.2 + img[:,:,1]*0.5 + img[:,:,2]*0.3\n",
    "    grayScaleImage = np.around(grayScaleImage)\n",
    "    return grayScaleImage.astype('uint8')\n",
    "\n",
    "img = cv2.imread('lena.bmp')\n",
    "\n",
    "binaryImage = cvtGray(img)\n",
    "cv2.imshow('grayScale', binaryImage)\n",
    "cv2.waitKey(0)\n",
    "cv2.destroyAllWindows()\n",
    "\n",
    "print(\"Color image shape: \", img.shape)                  # 3채널\n",
    "print(\"Binary image shape: \", binaryImage.shape)         # 1채널"
   ]
  },
  {
   "cell_type": "code",
   "execution_count": 4,
   "metadata": {},
   "outputs": [],
   "source": [
    "# 2. Change the input image intensity. \n",
    "\n",
    "def changeIntensity(inputImage, offset):\n",
    "    outputImage = inputImage[:,:].astype(int) + offset\n",
    "    outputImage[ outputImage < 0] = 0\n",
    "    outputImage[ outputImage > 255] = 255\n",
    "    return outputImage.astype('uint8')\n",
    "\n",
    "changedImage = changeIntensity(binaryImage, 100)\n",
    "cv2.imshow('Intensity', changedImage)\n",
    "cv2.waitKey(0)\n",
    "cv2.destroyAllWindows()"
   ]
  },
  {
   "cell_type": "code",
   "execution_count": 6,
   "metadata": {},
   "outputs": [
    {
     "name": "stdout",
     "output_type": "stream",
     "text": [
      "frame shape:  (128, 128, 3)\n",
      "number of frames: 16\n"
     ]
    }
   ],
   "source": [
    "# 3.1 Generate the video by cropping 128x128 block from 512x512 image using the following order\n",
    "\n",
    "def snail(InputImg):\n",
    "    n=4                 # 512 / 128 \n",
    "    row = 0             # row index\n",
    "    col = -128          # col index\n",
    "    direction = 128     # 변하는 값\n",
    "    video = list()      # frame list\n",
    "    while n > 0:            \n",
    "        for i in range(n):   # 열 이동 \n",
    "            col += direction\n",
    "            cropImg = img[row:row+128, col:col+128,:]\n",
    "            video.append(cropImg)\n",
    "            \n",
    "        n -= 1 \n",
    "        for j in range(n):   # 행 이동\n",
    "            row += direction\n",
    "            cropImg = img[row:row+128, col:col+128,:]\n",
    "            video.append(cropImg)\n",
    "            \n",
    "        direction *= -1          #방향 변경\n",
    "    return video\n",
    "\n",
    "\n",
    "video = snail(img)\n",
    "print(\"frame shape: \", video[0].shape)  # 128 , 128\n",
    "print(\"number of frames:\", len(video))  # 16\n",
    "cnt = len(video)\n",
    "idx = 0\n",
    "\n",
    "while True:\n",
    "    cv2.imshow('image', video[idx])\n",
    "    if cv2.waitKey(500) >= 0:  \n",
    "        cv2.destroyAllWindows()\n",
    "        break\n",
    "\n",
    "    idx = (idx+1) % cnt"
   ]
  },
  {
   "cell_type": "code",
   "execution_count": 5,
   "metadata": {},
   "outputs": [
    {
     "name": "stdout",
     "output_type": "stream",
     "text": [
      "check number of pixel:  True\n"
     ]
    },
    {
     "data": {
      "image/png": "[encoded data removed]",
      "text/plain": [
       "<Figure size 1152x360 with 2 Axes>"
      ]
     },
     "metadata": {
      "needs_background": "light"
     },
     "output_type": "display_data"
    }
   ],
   "source": [
    "# 4. Find the histogram for given input gray image. \n",
    "\n",
    "grey = cvtGray(img)\n",
    "\n",
    "def toHist(inputImage, bins):\n",
    "    h, w = inputImage.shape[:2]        # image height width\n",
    "    hist = np.zeros(bins)              # histogram vector\n",
    "    width= 256 / bins                  # width\n",
    "    inputImage = inputImage // width   # indexing\n",
    "    for i in range(h):\n",
    "        for j in range(w):\n",
    "            index = int(inputImage[i][j])\n",
    "            hist[index] +=1 \n",
    "            \n",
    "    return hist\n",
    "\n",
    "hist = toHist(grey, 256)\n",
    "print(\"check number of pixel: \", sum(hist) == 512 * 512)   # histogram 값들의 합 === 전체 픽셀 수\n",
    "\n",
    "# Normalized histogram\n",
    "hist_hat = hist / (512 * 512)\n",
    "\n",
    "x = np.arange(len(hist))\n",
    "plt.figure(figsize=(16,5))\n",
    "plt.subplot(1,2,1)\n",
    "plt.bar(x,hist)\n",
    "plt.subplot(1,2,2)\n",
    "plt.bar(x,hist_hat)\n",
    "plt.show()"
   ]
  },
  {
   "cell_type": "code",
   "execution_count": 8,
   "metadata": {},
   "outputs": [
    {
     "name": "stdout",
     "output_type": "stream",
     "text": [
      "totalMean:  124.67448425292969\n",
      "threshold: 117\n"
     ]
    }
   ],
   "source": [
    "# 5. Binarize the input image using Otsu method \n",
    "\n",
    "# calculate weight \n",
    "binarizedImage = grey.copy() \n",
    "\n",
    "weight = np.zeros(256)\n",
    "weight[0] = hist_hat[0] # 초깃값\n",
    "\n",
    "for i in range(1,len(hist_hat)):\n",
    "    weight[i] = weight[i-1] + hist_hat[i]\n",
    "\n",
    "totalMean = np.sum(binarizedImage) / (512 * 512)\n",
    "print(\"totalMean: \", totalMean )\n",
    "\n",
    "# calculate mean_0\n",
    "mean_0 = np.zeros(256)\n",
    "for i in range(1,256):\n",
    "    if(weight[i]):\n",
    "        mean_0[i] = (weight[i-1]*mean_0[i-1] + i * hist_hat[i]) / weight[i]\n",
    "    else:\n",
    "        mean_0[i] = (weight[i-1]*mean_0[i-1] + i * hist_hat[i]) / 0.00000000001\n",
    "\n",
    "# calculate mean_1\n",
    "mean_1 = np.zeros(256) \n",
    "for i in range(256):\n",
    "    if(1-weight[i]):\n",
    "        mean_1[i] = ( totalMean - weight[i]*mean_0[i] ) / (1 - weight[i])\n",
    "    else:\n",
    "        mean_1[i] = ( totalMean - weight[i]*mean_0[i] ) / 0.00000000001\n",
    "\n",
    "# calculate v_between\n",
    "v_between = np.zeros(256)\n",
    "for i in range(256):\n",
    "    v_between[i] = weight[i]*(1-weight[i])*(mean_0[i] - mean_1[i])**2\n",
    "\n",
    "# find threshold\n",
    "threshold = np.argmax(v_between)\n",
    "print(\"threshold:\", threshold)\n",
    "\n",
    "# binarization\n",
    "binarizedImage[binarizedImage >= threshold] = 255\n",
    "binarizedImage[binarizedImage < threshold] = 0\n",
    "cv2.imshow('binary', binarizedImage)\n",
    "cv2.waitKey(0)\n",
    "cv2.destroyAllWindows()"
   ]
  },
  {
   "cell_type": "code",
   "execution_count": 9,
   "metadata": {},
   "outputs": [
    {
     "name": "stdout",
     "output_type": "stream",
     "text": [
      "openCV, otsu's threshold: 117.0\n"
     ]
    }
   ],
   "source": [
    "th, dst = cv2.threshold(grey, 0, 255, cv2.THRESH_BINARY | cv2.THRESH_OTSU)\n",
    "print(\"openCV, otsu's threshold:\", th)  "
   ]
  }
 ],
 "metadata": {
  "kernelspec": {
   "display_name": "Python 3",
   "language": "python",
   "name": "python3"
  },
  "language_info": {
   "codemirror_mode": {
    "name": "ipython",
    "version": 3
   },
   "file_extension": ".py",
   "mimetype": "text/x-python",
   "name": "python",
   "nbconvert_exporter": "python",
   "pygments_lexer": "ipython3",
   "version": "3.7.7"
  }
 },
 "nbformat": 4,
 "nbformat_minor": 5
}
